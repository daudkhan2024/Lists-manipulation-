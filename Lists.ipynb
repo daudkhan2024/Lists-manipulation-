{
 "cells": [
  {
   "cell_type": "markdown",
   "id": "6d46f0b1",
   "metadata": {},
   "source": [
    "### List"
   ]
  },
  {
   "cell_type": "markdown",
   "id": "e1c97a95",
   "metadata": {},
   "source": [
    "+ list is a collection of various kind of data"
   ]
  },
  {
   "cell_type": "markdown",
   "id": "b9fdc9ff",
   "metadata": {},
   "source": [
    "+ it is denoted by [ ] Square brackets"
   ]
  },
  {
   "cell_type": "code",
   "execution_count": 1,
   "id": "cb327e9f",
   "metadata": {},
   "outputs": [],
   "source": [
    "l = [\"khan\",\"Germany\",1,2,3,True]"
   ]
  },
  {
   "cell_type": "code",
   "execution_count": 2,
   "id": "a2d03972",
   "metadata": {},
   "outputs": [
    {
     "data": {
      "text/plain": [
       "['khan', 'Germany', 1, 2, 3, True]"
      ]
     },
     "execution_count": 2,
     "metadata": {},
     "output_type": "execute_result"
    }
   ],
   "source": [
    "l"
   ]
  },
  {
   "cell_type": "code",
   "execution_count": 3,
   "id": "c4399ad3",
   "metadata": {},
   "outputs": [
    {
     "name": "stdout",
     "output_type": "stream",
     "text": [
      "['khan', 'Germany', 1, 2, 3, True]\n",
      "['khan', 'Germany', 1, 2, 3, True]\n",
      "['khan', 'Germany', 1, 2, 3, True]\n",
      "['khan', 'Germany', 1, 2, 3, True]\n",
      "['khan', 'Germany', 1, 2, 3, True]\n",
      "['khan', 'Germany', 1, 2, 3, True]\n"
     ]
    }
   ],
   "source": [
    "for i in l:\n",
    "    print(l)"
   ]
  },
  {
   "cell_type": "code",
   "execution_count": 4,
   "id": "789f333f",
   "metadata": {},
   "outputs": [
    {
     "name": "stdout",
     "output_type": "stream",
     "text": [
      "khan\n",
      "Germany\n",
      "1\n",
      "2\n",
      "3\n",
      "True\n"
     ]
    }
   ],
   "source": [
    "for i in l:\n",
    "    print(i)"
   ]
  },
  {
   "cell_type": "markdown",
   "id": "96ce655b",
   "metadata": {},
   "source": [
    "#### we can make list in a list"
   ]
  },
  {
   "cell_type": "code",
   "execution_count": 5,
   "id": "2107fd46",
   "metadata": {},
   "outputs": [],
   "source": [
    "l = [\"khan\",\"berlin\",12,3,[1,2,3,\"yes\"],False]"
   ]
  },
  {
   "cell_type": "code",
   "execution_count": 6,
   "id": "6d70b46b",
   "metadata": {},
   "outputs": [
    {
     "data": {
      "text/plain": [
       "['khan', 'berlin', 12, 3, [1, 2, 3, 'yes'], False]"
      ]
     },
     "execution_count": 6,
     "metadata": {},
     "output_type": "execute_result"
    }
   ],
   "source": [
    "l"
   ]
  },
  {
   "cell_type": "code",
   "execution_count": 33,
   "id": "ba082ac5",
   "metadata": {},
   "outputs": [
    {
     "name": "stdout",
     "output_type": "stream",
     "text": [
      "['khan', 'berlin', 12, 3, [1, 2, 3, 'yes'], False]\n",
      "['khan', 'berlin', 12, 3, [1, 2, 3, 'yes'], False]\n",
      "['khan', 'berlin', 12, 3, [1, 2, 3, 'yes'], False]\n",
      "['khan', 'berlin', 12, 3, [1, 2, 3, 'yes'], False]\n",
      "['khan', 'berlin', 12, 3, [1, 2, 3, 'yes'], False]\n",
      "['khan', 'berlin', 12, 3, [1, 2, 3, 'yes'], False]\n"
     ]
    }
   ],
   "source": [
    "for i in l:\n",
    "    print(l)"
   ]
  },
  {
   "cell_type": "code",
   "execution_count": 34,
   "id": "a407dd9c",
   "metadata": {},
   "outputs": [
    {
     "name": "stdout",
     "output_type": "stream",
     "text": [
      "khan\n",
      "berlin\n",
      "12\n",
      "3\n",
      "[1, 2, 3, 'yes']\n",
      "False\n"
     ]
    }
   ],
   "source": [
    "for i in l:\n",
    "    print(i)"
   ]
  },
  {
   "cell_type": "code",
   "execution_count": 35,
   "id": "5d1b740a",
   "metadata": {},
   "outputs": [
    {
     "data": {
      "text/plain": [
       "'berlin'"
      ]
     },
     "execution_count": 35,
     "metadata": {},
     "output_type": "execute_result"
    }
   ],
   "source": [
    "# parse through a list we use index\n",
    "l[1]"
   ]
  },
  {
   "cell_type": "code",
   "execution_count": 36,
   "id": "b39b01a3",
   "metadata": {},
   "outputs": [
    {
     "data": {
      "text/plain": [
       "[False, [1, 2, 3, 'yes'], 3, 12, 'berlin', 'khan']"
      ]
     },
     "execution_count": 36,
     "metadata": {},
     "output_type": "execute_result"
    }
   ],
   "source": [
    "l[::-1]# reverse direction"
   ]
  },
  {
   "cell_type": "code",
   "execution_count": 37,
   "id": "30c37e71",
   "metadata": {},
   "outputs": [
    {
     "data": {
      "text/plain": [
       "['khan', 'berlin', 12, 3, [1, 2, 3, 'yes'], False]"
      ]
     },
     "execution_count": 37,
     "metadata": {},
     "output_type": "execute_result"
    }
   ],
   "source": [
    "l"
   ]
  },
  {
   "cell_type": "code",
   "execution_count": 38,
   "id": "fed9f710",
   "metadata": {},
   "outputs": [
    {
     "name": "stdout",
     "output_type": "stream",
     "text": [
      "this is a list [1, 2, 3, 'yes']\n",
      "this is not a list False\n"
     ]
    }
   ],
   "source": [
    "# lets make every element if its list or not we use for loop\n",
    "for i in l:\n",
    "    if type(i)== list:\n",
    "        print(\"this is a list\",i)\n",
    "else:\n",
    "    print(\"this is not a list\",i)"
   ]
  },
  {
   "cell_type": "code",
   "execution_count": 39,
   "id": "bd77d203",
   "metadata": {
    "scrolled": true
   },
   "outputs": [
    {
     "name": "stdout",
     "output_type": "stream",
     "text": [
      "this is not a list khan\n",
      "this is not a list berlin\n",
      "this is not a list 12\n",
      "this is not a list 3\n",
      "this is a list [1, 2, 3, 'yes']\n",
      "this is not a list False\n"
     ]
    }
   ],
   "source": [
    "# to print all elements put else: in side loop\n",
    "for i in l:\n",
    "    if type(i)== list:\n",
    "        print(\"this is a list\",i)\n",
    "    else:\n",
    "        print(\"this is not a list\",i)"
   ]
  },
  {
   "cell_type": "markdown",
   "id": "2bf7cbcc",
   "metadata": {},
   "source": [
    "+ list can concatenate"
   ]
  },
  {
   "cell_type": "code",
   "execution_count": 40,
   "id": "443b1582",
   "metadata": {},
   "outputs": [
    {
     "data": {
      "text/plain": [
       "['khan', 'berlin', 12, 3, [1, 2, 3, 'yes'], False]"
      ]
     },
     "execution_count": 40,
     "metadata": {},
     "output_type": "execute_result"
    }
   ],
   "source": [
    "l"
   ]
  },
  {
   "cell_type": "code",
   "execution_count": 41,
   "id": "e207686f",
   "metadata": {},
   "outputs": [],
   "source": [
    "l1 = [\"usa\",1,2,33]"
   ]
  },
  {
   "cell_type": "code",
   "execution_count": 42,
   "id": "949f54ff",
   "metadata": {},
   "outputs": [
    {
     "data": {
      "text/plain": [
       "['khan', 'berlin', 12, 3, [1, 2, 3, 'yes'], False, 'usa', 1, 2, 33]"
      ]
     },
     "execution_count": 42,
     "metadata": {},
     "output_type": "execute_result"
    }
   ],
   "source": [
    "l + l1"
   ]
  },
  {
   "cell_type": "code",
   "execution_count": 43,
   "id": "08106c06",
   "metadata": {},
   "outputs": [
    {
     "data": {
      "text/plain": [
       "['khan',\n",
       " 'berlin',\n",
       " 12,\n",
       " 3,\n",
       " [1, 2, 3, 'yes'],\n",
       " False,\n",
       " 'khan',\n",
       " 'berlin',\n",
       " 12,\n",
       " 3,\n",
       " [1, 2, 3, 'yes'],\n",
       " False]"
      ]
     },
     "execution_count": 43,
     "metadata": {},
     "output_type": "execute_result"
    }
   ],
   "source": [
    "l * 2"
   ]
  },
  {
   "cell_type": "code",
   "execution_count": 44,
   "id": "3c58c0b7",
   "metadata": {},
   "outputs": [
    {
     "data": {
      "text/plain": [
       "6"
      ]
     },
     "execution_count": 44,
     "metadata": {},
     "output_type": "execute_result"
    }
   ],
   "source": [
    "len(l)"
   ]
  },
  {
   "cell_type": "code",
   "execution_count": 45,
   "id": "31145660",
   "metadata": {},
   "outputs": [
    {
     "data": {
      "text/plain": [
       "4"
      ]
     },
     "execution_count": 45,
     "metadata": {},
     "output_type": "execute_result"
    }
   ],
   "source": [
    "len(l1)"
   ]
  },
  {
   "cell_type": "markdown",
   "id": "0d3a24d4",
   "metadata": {},
   "source": [
    "#### checking elements in list"
   ]
  },
  {
   "cell_type": "code",
   "execution_count": 46,
   "id": "79fa58ac",
   "metadata": {},
   "outputs": [
    {
     "data": {
      "text/plain": [
       "False"
      ]
     },
     "execution_count": 46,
     "metadata": {},
     "output_type": "execute_result"
    }
   ],
   "source": [
    "True in l"
   ]
  },
  {
   "cell_type": "code",
   "execution_count": 47,
   "id": "5bbe9a8b",
   "metadata": {},
   "outputs": [
    {
     "data": {
      "text/plain": [
       "True"
      ]
     },
     "execution_count": 47,
     "metadata": {},
     "output_type": "execute_result"
    }
   ],
   "source": [
    "\"khan\" in l"
   ]
  },
  {
   "cell_type": "code",
   "execution_count": 48,
   "id": "0fb13694",
   "metadata": {},
   "outputs": [
    {
     "data": {
      "text/plain": [
       "False"
      ]
     },
     "execution_count": 48,
     "metadata": {},
     "output_type": "execute_result"
    }
   ],
   "source": [
    "\"berlin\" in l1"
   ]
  },
  {
   "cell_type": "code",
   "execution_count": 49,
   "id": "48b8e5ba",
   "metadata": {},
   "outputs": [
    {
     "name": "stdout",
     "output_type": "stream",
     "text": [
      "454677\n"
     ]
    }
   ],
   "source": [
    "print(max([2.323,324,454677]))"
   ]
  },
  {
   "cell_type": "code",
   "execution_count": 50,
   "id": "01755a7c",
   "metadata": {},
   "outputs": [
    {
     "name": "stdout",
     "output_type": "stream",
     "text": [
      "khan\n"
     ]
    }
   ],
   "source": [
    "print(max([\"khan\",\"berlinnn\"]))#based on alphabetical\n",
    "#order it will return max"
   ]
  },
  {
   "cell_type": "code",
   "execution_count": 51,
   "id": "1e088493",
   "metadata": {},
   "outputs": [
    {
     "name": "stdout",
     "output_type": "stream",
     "text": [
      "khan\n"
     ]
    }
   ],
   "source": [
    "print(max([\"ber\",\"khan\"]))"
   ]
  },
  {
   "cell_type": "code",
   "execution_count": 52,
   "id": "7a224e9f",
   "metadata": {},
   "outputs": [
    {
     "data": {
      "text/plain": [
       "'khan,12,3234'"
      ]
     },
     "execution_count": 52,
     "metadata": {},
     "output_type": "execute_result"
    }
   ],
   "source": [
    "max([\"khan,12,3234\"]) #it will not do a comparision"
   ]
  },
  {
   "cell_type": "code",
   "execution_count": 53,
   "id": "34f7c8ac",
   "metadata": {},
   "outputs": [],
   "source": [
    "mylist=[1,2,3]\n",
    "mylist[1]=6"
   ]
  },
  {
   "cell_type": "code",
   "execution_count": 54,
   "id": "07bfb30f",
   "metadata": {},
   "outputs": [
    {
     "name": "stdout",
     "output_type": "stream",
     "text": [
      "[1, 6, 3]\n"
     ]
    }
   ],
   "source": [
    "print(mylist)"
   ]
  },
  {
   "cell_type": "code",
   "execution_count": 55,
   "id": "26bd1066",
   "metadata": {},
   "outputs": [
    {
     "data": {
      "text/plain": [
       "'y'"
      ]
     },
     "execution_count": 55,
     "metadata": {},
     "output_type": "execute_result"
    }
   ],
   "source": [
    "max(\"khan\",\"y\") #based on alphabatical order it will return max"
   ]
  },
  {
   "cell_type": "code",
   "execution_count": 56,
   "id": "ddd8a8a4",
   "metadata": {},
   "outputs": [
    {
     "data": {
      "text/plain": [
       "'apple'"
      ]
     },
     "execution_count": 56,
     "metadata": {},
     "output_type": "execute_result"
    }
   ],
   "source": [
    "min([\"apple\",\"zoo\"])"
   ]
  },
  {
   "cell_type": "code",
   "execution_count": 57,
   "id": "3218753f",
   "metadata": {},
   "outputs": [
    {
     "data": {
      "text/plain": [
       "1"
      ]
     },
     "execution_count": 57,
     "metadata": {},
     "output_type": "execute_result"
    }
   ],
   "source": [
    "min([1,2,4,5,6])"
   ]
  },
  {
   "cell_type": "code",
   "execution_count": 58,
   "id": "6ee010f3",
   "metadata": {},
   "outputs": [
    {
     "ename": "TypeError",
     "evalue": "'<' not supported between instances of 'str' and 'int'",
     "output_type": "error",
     "traceback": [
      "\u001b[0;31m---------------------------------------------------------------------------\u001b[0m",
      "\u001b[0;31mTypeError\u001b[0m                                 Traceback (most recent call last)",
      "Input \u001b[0;32mIn [58]\u001b[0m, in \u001b[0;36m<cell line: 1>\u001b[0;34m()\u001b[0m\n\u001b[0;32m----> 1\u001b[0m \u001b[38;5;28;43mmin\u001b[39;49m\u001b[43m(\u001b[49m\u001b[43m[\u001b[49m\u001b[38;5;241;43m1\u001b[39;49m\u001b[43m,\u001b[49m\u001b[38;5;241;43m2\u001b[39;49m\u001b[43m,\u001b[49m\u001b[38;5;241;43m4\u001b[39;49m\u001b[43m,\u001b[49m\u001b[38;5;241;43m5\u001b[39;49m\u001b[43m,\u001b[49m\u001b[38;5;241;43m6\u001b[39;49m\u001b[43m,\u001b[49m\u001b[38;5;124;43m\"\u001b[39;49m\u001b[38;5;124;43mapple\u001b[39;49m\u001b[38;5;124;43m\"\u001b[39;49m\u001b[43m]\u001b[49m\u001b[43m)\u001b[49m\n",
      "\u001b[0;31mTypeError\u001b[0m: '<' not supported between instances of 'str' and 'int'"
     ]
    }
   ],
   "source": [
    "min([1,2,4,5,6,\"apple\"])# it will not work with combination\n",
    "#of string and int"
   ]
  },
  {
   "cell_type": "markdown",
   "id": "c0d523ea",
   "metadata": {},
   "source": [
    "#### .append( )  # it will append data in the last position"
   ]
  },
  {
   "cell_type": "code",
   "execution_count": 59,
   "id": "a7480261",
   "metadata": {},
   "outputs": [],
   "source": [
    "l = [1,2,3,4]"
   ]
  },
  {
   "cell_type": "code",
   "execution_count": 60,
   "id": "29add37a",
   "metadata": {},
   "outputs": [],
   "source": [
    "l.append('my name')"
   ]
  },
  {
   "cell_type": "code",
   "execution_count": 61,
   "id": "1eaead18",
   "metadata": {},
   "outputs": [
    {
     "data": {
      "text/plain": [
       "[1, 2, 3, 4, 'my name']"
      ]
     },
     "execution_count": 61,
     "metadata": {},
     "output_type": "execute_result"
    }
   ],
   "source": [
    "l"
   ]
  },
  {
   "cell_type": "markdown",
   "id": "9758bc09",
   "metadata": {},
   "source": [
    "#### appending list to list"
   ]
  },
  {
   "cell_type": "code",
   "execution_count": 62,
   "id": "f5dc3167",
   "metadata": {},
   "outputs": [],
   "source": [
    "l2 = [4324,\"khan\"] "
   ]
  },
  {
   "cell_type": "code",
   "execution_count": 63,
   "id": "bee08877",
   "metadata": {},
   "outputs": [],
   "source": [
    "l.append(l2)"
   ]
  },
  {
   "cell_type": "code",
   "execution_count": 64,
   "id": "e32fd646",
   "metadata": {},
   "outputs": [
    {
     "data": {
      "text/plain": [
       "[1, 2, 3, 4, 'my name', [4324, 'khan']]"
      ]
     },
     "execution_count": 64,
     "metadata": {},
     "output_type": "execute_result"
    }
   ],
   "source": [
    "l"
   ]
  },
  {
   "cell_type": "code",
   "execution_count": 65,
   "id": "0b0e7f70",
   "metadata": {},
   "outputs": [
    {
     "data": {
      "text/plain": [
       "[1, 2, 3, 4, 'my name', [4324, 'khan']]"
      ]
     },
     "execution_count": 65,
     "metadata": {},
     "output_type": "execute_result"
    }
   ],
   "source": [
    "# complex number appending\n",
    "l"
   ]
  },
  {
   "cell_type": "code",
   "execution_count": 66,
   "id": "7bceb7d7",
   "metadata": {},
   "outputs": [],
   "source": [
    "l.append(5+6j)"
   ]
  },
  {
   "cell_type": "code",
   "execution_count": 67,
   "id": "7be2b7ff",
   "metadata": {},
   "outputs": [
    {
     "data": {
      "text/plain": [
       "[1, 2, 3, 4, 'my name', [4324, 'khan'], (5+6j)]"
      ]
     },
     "execution_count": 67,
     "metadata": {},
     "output_type": "execute_result"
    }
   ],
   "source": [
    "l"
   ]
  },
  {
   "cell_type": "code",
   "execution_count": 68,
   "id": "b263474d",
   "metadata": {},
   "outputs": [
    {
     "ename": "TypeError",
     "evalue": "can only concatenate list (not \"str\") to list",
     "output_type": "error",
     "traceback": [
      "\u001b[0;31m---------------------------------------------------------------------------\u001b[0m",
      "\u001b[0;31mTypeError\u001b[0m                                 Traceback (most recent call last)",
      "Input \u001b[0;32mIn [68]\u001b[0m, in \u001b[0;36m<cell line: 1>\u001b[0;34m()\u001b[0m\n\u001b[0;32m----> 1\u001b[0m \u001b[43ml\u001b[49m\u001b[43m \u001b[49m\u001b[38;5;241;43m+\u001b[39;49m\u001b[43m \u001b[49m\u001b[38;5;124;43m\"\u001b[39;49m\u001b[38;5;124;43mkhan\u001b[39;49m\u001b[38;5;124;43m\"\u001b[39;49m\n",
      "\u001b[0;31mTypeError\u001b[0m: can only concatenate list (not \"str\") to list"
     ]
    }
   ],
   "source": [
    "l + \"khan\" # string and list can not work in this way"
   ]
  },
  {
   "cell_type": "code",
   "execution_count": 69,
   "id": "6598de3e",
   "metadata": {},
   "outputs": [
    {
     "data": {
      "text/plain": [
       "[1, 2, 3, 4, 'my name', [4324, 'khan'], (5+6j), 'khan']"
      ]
     },
     "execution_count": 69,
     "metadata": {},
     "output_type": "execute_result"
    }
   ],
   "source": [
    "l.append(\"khan\")\n",
    "l"
   ]
  },
  {
   "cell_type": "markdown",
   "id": "f97b7fd3",
   "metadata": {},
   "source": [
    "### .insert() function (it will insert it anywhere we want base on index)"
   ]
  },
  {
   "cell_type": "code",
   "execution_count": 70,
   "id": "b290d8db",
   "metadata": {},
   "outputs": [],
   "source": [
    "b = [\"khan\",3,4]"
   ]
  },
  {
   "cell_type": "code",
   "execution_count": 71,
   "id": "b6f5ceb7",
   "metadata": {},
   "outputs": [
    {
     "data": {
      "text/plain": [
       "['khan', 'apple', 3, 4]"
      ]
     },
     "execution_count": 71,
     "metadata": {},
     "output_type": "execute_result"
    }
   ],
   "source": [
    "b.insert(1,\"apple\")\n",
    "b"
   ]
  },
  {
   "cell_type": "code",
   "execution_count": 72,
   "id": "4e6d3d0a",
   "metadata": {},
   "outputs": [
    {
     "data": {
      "text/plain": [
       "['khan', 'apple', 3, 'yes', 4]"
      ]
     },
     "execution_count": 72,
     "metadata": {},
     "output_type": "execute_result"
    }
   ],
   "source": [
    "b.insert(-1,\"yes\") #reverse index\n",
    "b"
   ]
  },
  {
   "cell_type": "code",
   "execution_count": 73,
   "id": "e2a84835",
   "metadata": {},
   "outputs": [
    {
     "data": {
      "text/plain": [
       "1"
      ]
     },
     "execution_count": 73,
     "metadata": {},
     "output_type": "execute_result"
    }
   ],
   "source": [
    "b.count(\"yes\")"
   ]
  },
  {
   "cell_type": "code",
   "execution_count": 74,
   "id": "77150eb6",
   "metadata": {},
   "outputs": [
    {
     "data": {
      "text/plain": [
       "1"
      ]
     },
     "execution_count": 74,
     "metadata": {},
     "output_type": "execute_result"
    }
   ],
   "source": [
    "b.count(\"khan\")"
   ]
  },
  {
   "cell_type": "markdown",
   "id": "8c9ee691",
   "metadata": {},
   "source": [
    "### .extend() operation"
   ]
  },
  {
   "cell_type": "code",
   "execution_count": 75,
   "id": "8f7c5f57",
   "metadata": {},
   "outputs": [],
   "source": [
    "l = [1,2,3,4,5]"
   ]
  },
  {
   "cell_type": "code",
   "execution_count": 76,
   "id": "721e05fb",
   "metadata": {},
   "outputs": [],
   "source": [
    "l.append(\"khan\")"
   ]
  },
  {
   "cell_type": "code",
   "execution_count": 77,
   "id": "bbd6fb01",
   "metadata": {},
   "outputs": [
    {
     "data": {
      "text/plain": [
       "[1, 2, 3, 4, 5, 'khan']"
      ]
     },
     "execution_count": 77,
     "metadata": {},
     "output_type": "execute_result"
    }
   ],
   "source": [
    "l"
   ]
  },
  {
   "cell_type": "code",
   "execution_count": 78,
   "id": "22d681df",
   "metadata": {},
   "outputs": [],
   "source": [
    "l.append([\"123,4,555\"])"
   ]
  },
  {
   "cell_type": "code",
   "execution_count": 79,
   "id": "e3944443",
   "metadata": {},
   "outputs": [
    {
     "data": {
      "text/plain": [
       "[1, 2, 3, 4, 5, 'khan', ['123,4,555']]"
      ]
     },
     "execution_count": 79,
     "metadata": {},
     "output_type": "execute_result"
    }
   ],
   "source": [
    "l"
   ]
  },
  {
   "cell_type": "code",
   "execution_count": 80,
   "id": "328329cf",
   "metadata": {},
   "outputs": [],
   "source": [
    "l.extend(\"book1\")# it will unraped it"
   ]
  },
  {
   "cell_type": "code",
   "execution_count": 81,
   "id": "693767a1",
   "metadata": {},
   "outputs": [
    {
     "data": {
      "text/plain": [
       "[1, 2, 3, 4, 5, 'khan', ['123,4,555'], 'b', 'o', 'o', 'k', '1']"
      ]
     },
     "execution_count": 81,
     "metadata": {},
     "output_type": "execute_result"
    }
   ],
   "source": [
    "l"
   ]
  },
  {
   "cell_type": "code",
   "execution_count": 82,
   "id": "012c524a",
   "metadata": {},
   "outputs": [],
   "source": [
    "l.extend(\"123\")"
   ]
  },
  {
   "cell_type": "code",
   "execution_count": 83,
   "id": "e0e211c1",
   "metadata": {},
   "outputs": [
    {
     "data": {
      "text/plain": [
       "[1, 2, 3, 4, 5, 'khan', ['123,4,555'], 'b', 'o', 'o', 'k', '1', '1', '2', '3']"
      ]
     },
     "execution_count": 83,
     "metadata": {},
     "output_type": "execute_result"
    }
   ],
   "source": [
    "l"
   ]
  },
  {
   "cell_type": "code",
   "execution_count": 84,
   "id": "f8f53b4d",
   "metadata": {},
   "outputs": [],
   "source": [
    "a = \"how are you\""
   ]
  },
  {
   "cell_type": "code",
   "execution_count": 85,
   "id": "bda0285a",
   "metadata": {},
   "outputs": [
    {
     "data": {
      "text/plain": [
       "['h', 'o', 'w', ' ', 'a', 'r', 'e', ' ', 'y', 'o', 'u']"
      ]
     },
     "execution_count": 85,
     "metadata": {},
     "output_type": "execute_result"
    }
   ],
   "source": [
    "list(a)"
   ]
  },
  {
   "cell_type": "code",
   "execution_count": 86,
   "id": "6b9fd034",
   "metadata": {},
   "outputs": [
    {
     "data": {
      "text/plain": [
       "[1, 2, 3, 4, 5, 6, 7, 8]"
      ]
     },
     "execution_count": 86,
     "metadata": {},
     "output_type": "execute_result"
    }
   ],
   "source": [
    "l = [1,2,3,4]\n",
    "l.extend([5,6,7,8]) ####big difference\n",
    "l"
   ]
  },
  {
   "cell_type": "code",
   "execution_count": 87,
   "id": "b55ff367",
   "metadata": {},
   "outputs": [
    {
     "data": {
      "text/plain": [
       "[1, 2, 3, 4, 5, 6, 7, 8, 22, 3, 4, [56, 7, 8]]"
      ]
     },
     "execution_count": 87,
     "metadata": {},
     "output_type": "execute_result"
    }
   ],
   "source": [
    "l.extend([22,3,4,[56,7,8]]) #extend will not itrate \n",
    "#thgouth second list in list\n",
    "l"
   ]
  },
  {
   "cell_type": "markdown",
   "id": "be230193",
   "metadata": {},
   "source": [
    "### .index()"
   ]
  },
  {
   "cell_type": "code",
   "execution_count": 88,
   "id": "c411342e",
   "metadata": {},
   "outputs": [
    {
     "data": {
      "text/plain": [
       "2"
      ]
     },
     "execution_count": 88,
     "metadata": {},
     "output_type": "execute_result"
    }
   ],
   "source": [
    "l.index(3)"
   ]
  },
  {
   "cell_type": "markdown",
   "id": "0eee9a7e",
   "metadata": {},
   "source": [
    "### .pop()     ( it will remove on base of index)"
   ]
  },
  {
   "cell_type": "code",
   "execution_count": 89,
   "id": "8e1d746d",
   "metadata": {},
   "outputs": [
    {
     "data": {
      "text/plain": [
       "4"
      ]
     },
     "execution_count": 89,
     "metadata": {},
     "output_type": "execute_result"
    }
   ],
   "source": [
    "l.pop(3)"
   ]
  },
  {
   "cell_type": "code",
   "execution_count": 90,
   "id": "c15819aa",
   "metadata": {},
   "outputs": [
    {
     "data": {
      "text/plain": [
       "[1, 2, 3, 5, 6, 7, 8, 22, 3, 4, [56, 7, 8]]"
      ]
     },
     "execution_count": 90,
     "metadata": {},
     "output_type": "execute_result"
    }
   ],
   "source": [
    "l"
   ]
  },
  {
   "cell_type": "code",
   "execution_count": 91,
   "id": "10000ea7",
   "metadata": {},
   "outputs": [
    {
     "data": {
      "text/plain": [
       "4"
      ]
     },
     "execution_count": 91,
     "metadata": {},
     "output_type": "execute_result"
    }
   ],
   "source": [
    "l = [1,2,3,4]\n",
    "l.pop(-1)"
   ]
  },
  {
   "cell_type": "code",
   "execution_count": 92,
   "id": "b7af2fb2",
   "metadata": {},
   "outputs": [
    {
     "data": {
      "text/plain": [
       "[1, 2, 3]"
      ]
     },
     "execution_count": 92,
     "metadata": {},
     "output_type": "execute_result"
    }
   ],
   "source": [
    "l"
   ]
  },
  {
   "cell_type": "markdown",
   "id": "76240095",
   "metadata": {},
   "source": [
    "### .remove()"
   ]
  },
  {
   "cell_type": "code",
   "execution_count": 93,
   "id": "089787ef",
   "metadata": {},
   "outputs": [
    {
     "data": {
      "text/plain": [
       "[1, 2, 3]"
      ]
     },
     "execution_count": 93,
     "metadata": {},
     "output_type": "execute_result"
    }
   ],
   "source": [
    "l"
   ]
  },
  {
   "cell_type": "code",
   "execution_count": 94,
   "id": "cdece78a",
   "metadata": {},
   "outputs": [],
   "source": [
    "l.remove(2)"
   ]
  },
  {
   "cell_type": "code",
   "execution_count": 95,
   "id": "5b6f4b98",
   "metadata": {},
   "outputs": [
    {
     "data": {
      "text/plain": [
       "[1, 3]"
      ]
     },
     "execution_count": 95,
     "metadata": {},
     "output_type": "execute_result"
    }
   ],
   "source": [
    "l"
   ]
  },
  {
   "cell_type": "code",
   "execution_count": 96,
   "id": "9504a41c",
   "metadata": {},
   "outputs": [],
   "source": [
    "l = [1,2,2,2,2,2,4,5,66]"
   ]
  },
  {
   "cell_type": "code",
   "execution_count": 97,
   "id": "a6a7cdea",
   "metadata": {},
   "outputs": [],
   "source": [
    "l.remove(2)"
   ]
  },
  {
   "cell_type": "code",
   "execution_count": 98,
   "id": "13788901",
   "metadata": {},
   "outputs": [
    {
     "data": {
      "text/plain": [
       "[1, 2, 2, 2, 2, 4, 5, 66]"
      ]
     },
     "execution_count": 98,
     "metadata": {},
     "output_type": "execute_result"
    }
   ],
   "source": [
    "l #it only remove first occurences "
   ]
  },
  {
   "cell_type": "markdown",
   "id": "f1e39474",
   "metadata": {},
   "source": [
    "+ in pop we saw it remove data on basis of index\n",
    "+ in remove it will remove data on basis of matching"
   ]
  },
  {
   "cell_type": "markdown",
   "id": "ef3ac957",
   "metadata": {},
   "source": [
    "### .reverse()"
   ]
  },
  {
   "cell_type": "code",
   "execution_count": 99,
   "id": "fdbdd29a",
   "metadata": {},
   "outputs": [
    {
     "data": {
      "text/plain": [
       "[1, 2, 2, 2, 2, 4, 5, 66]"
      ]
     },
     "execution_count": 99,
     "metadata": {},
     "output_type": "execute_result"
    }
   ],
   "source": [
    "l"
   ]
  },
  {
   "cell_type": "code",
   "execution_count": 100,
   "id": "05e3ca28",
   "metadata": {},
   "outputs": [],
   "source": [
    "l.reverse()"
   ]
  },
  {
   "cell_type": "code",
   "execution_count": 101,
   "id": "a1c63aa8",
   "metadata": {},
   "outputs": [
    {
     "data": {
      "text/plain": [
       "[66, 5, 4, 2, 2, 2, 2, 1]"
      ]
     },
     "execution_count": 101,
     "metadata": {},
     "output_type": "execute_result"
    }
   ],
   "source": [
    "l"
   ]
  },
  {
   "cell_type": "markdown",
   "id": "b5271514",
   "metadata": {},
   "source": [
    "### .sort()"
   ]
  },
  {
   "cell_type": "code",
   "execution_count": 102,
   "id": "707510f6",
   "metadata": {},
   "outputs": [],
   "source": [
    "l.sort()"
   ]
  },
  {
   "cell_type": "code",
   "execution_count": 103,
   "id": "45d68f16",
   "metadata": {},
   "outputs": [
    {
     "data": {
      "text/plain": [
       "[1, 2, 2, 2, 2, 4, 5, 66]"
      ]
     },
     "execution_count": 103,
     "metadata": {},
     "output_type": "execute_result"
    }
   ],
   "source": [
    "l"
   ]
  },
  {
   "cell_type": "code",
   "execution_count": 104,
   "id": "b74654ad",
   "metadata": {},
   "outputs": [],
   "source": [
    "l = [4,5,6,7,\"book\",\"eye\"]"
   ]
  },
  {
   "cell_type": "code",
   "execution_count": 105,
   "id": "be551a8f",
   "metadata": {},
   "outputs": [
    {
     "ename": "TypeError",
     "evalue": "'<' not supported between instances of 'str' and 'int'",
     "output_type": "error",
     "traceback": [
      "\u001b[0;31m---------------------------------------------------------------------------\u001b[0m",
      "\u001b[0;31mTypeError\u001b[0m                                 Traceback (most recent call last)",
      "Input \u001b[0;32mIn [105]\u001b[0m, in \u001b[0;36m<cell line: 1>\u001b[0;34m()\u001b[0m\n\u001b[0;32m----> 1\u001b[0m \u001b[43ml\u001b[49m\u001b[38;5;241;43m.\u001b[39;49m\u001b[43msort\u001b[49m\u001b[43m(\u001b[49m\u001b[43m)\u001b[49m\n",
      "\u001b[0;31mTypeError\u001b[0m: '<' not supported between instances of 'str' and 'int'"
     ]
    }
   ],
   "source": [
    "l.sort() # it will not sort in this way with strings\n",
    "# unless its int"
   ]
  },
  {
   "cell_type": "code",
   "execution_count": 106,
   "id": "83aebe39",
   "metadata": {},
   "outputs": [
    {
     "data": {
      "text/plain": [
       "[[1, 2, 3], [3, 2], [8, 7, 6]]"
      ]
     },
     "execution_count": 106,
     "metadata": {},
     "output_type": "execute_result"
    }
   ],
   "source": [
    "### task\n",
    "l = [[1,2,3],[3,2],[8,7,6]]\n",
    "l"
   ]
  },
  {
   "cell_type": "code",
   "execution_count": 107,
   "id": "7aae1b60",
   "metadata": {},
   "outputs": [
    {
     "data": {
      "text/plain": [
       "['khan', 4, 5]"
      ]
     },
     "execution_count": 107,
     "metadata": {},
     "output_type": "execute_result"
    }
   ],
   "source": [
    "l2 = [\"khan\",4,5]\n",
    "l2"
   ]
  },
  {
   "cell_type": "code",
   "execution_count": 108,
   "id": "ee075374",
   "metadata": {},
   "outputs": [
    {
     "data": {
      "text/plain": [
       "['car', 44, 55]"
      ]
     },
     "execution_count": 108,
     "metadata": {},
     "output_type": "execute_result"
    }
   ],
   "source": [
    "l3 = [\"car\",44,55]\n",
    "l3"
   ]
  },
  {
   "cell_type": "code",
   "execution_count": 109,
   "id": "056b8bc0",
   "metadata": {},
   "outputs": [],
   "source": [
    "l.append(l2)"
   ]
  },
  {
   "cell_type": "code",
   "execution_count": 110,
   "id": "10a34a12",
   "metadata": {},
   "outputs": [
    {
     "data": {
      "text/plain": [
       "[[1, 2, 3], [3, 2], [8, 7, 6], ['khan', 4, 5]]"
      ]
     },
     "execution_count": 110,
     "metadata": {},
     "output_type": "execute_result"
    }
   ],
   "source": [
    "l"
   ]
  },
  {
   "cell_type": "code",
   "execution_count": 111,
   "id": "5094be77",
   "metadata": {},
   "outputs": [],
   "source": [
    "l.append(l3)"
   ]
  },
  {
   "cell_type": "code",
   "execution_count": 112,
   "id": "2ae40c66",
   "metadata": {},
   "outputs": [
    {
     "data": {
      "text/plain": [
       "[[1, 2, 3], [3, 2], [8, 7, 6], ['khan', 4, 5], ['car', 44, 55]]"
      ]
     },
     "execution_count": 112,
     "metadata": {},
     "output_type": "execute_result"
    }
   ],
   "source": [
    "l"
   ]
  },
  {
   "cell_type": "code",
   "execution_count": 113,
   "id": "e8d16b33",
   "metadata": {},
   "outputs": [],
   "source": [
    "l.insert(0,l2)"
   ]
  },
  {
   "cell_type": "code",
   "execution_count": 114,
   "id": "a1b9214a",
   "metadata": {},
   "outputs": [
    {
     "data": {
      "text/plain": [
       "[['khan', 4, 5], [1, 2, 3], [3, 2], [8, 7, 6], ['khan', 4, 5], ['car', 44, 55]]"
      ]
     },
     "execution_count": 114,
     "metadata": {},
     "output_type": "execute_result"
    }
   ],
   "source": [
    "l"
   ]
  },
  {
   "cell_type": "code",
   "execution_count": 115,
   "id": "0b0119cb",
   "metadata": {},
   "outputs": [],
   "source": [
    "l.insert(0,l3)"
   ]
  },
  {
   "cell_type": "code",
   "execution_count": 116,
   "id": "0e0eaa4b",
   "metadata": {},
   "outputs": [
    {
     "data": {
      "text/plain": [
       "[['car', 44, 55],\n",
       " ['khan', 4, 5],\n",
       " [1, 2, 3],\n",
       " [3, 2],\n",
       " [8, 7, 6],\n",
       " ['khan', 4, 5],\n",
       " ['car', 44, 55]]"
      ]
     },
     "execution_count": 116,
     "metadata": {},
     "output_type": "execute_result"
    }
   ],
   "source": [
    "l"
   ]
  },
  {
   "cell_type": "code",
   "execution_count": 117,
   "id": "1f017ef0",
   "metadata": {},
   "outputs": [
    {
     "data": {
      "text/plain": [
       "['khan', 4, 5]"
      ]
     },
     "execution_count": 117,
     "metadata": {},
     "output_type": "execute_result"
    }
   ],
   "source": [
    "l.pop(5)"
   ]
  },
  {
   "cell_type": "code",
   "execution_count": 118,
   "id": "a84930ad",
   "metadata": {},
   "outputs": [
    {
     "data": {
      "text/plain": [
       "[['car', 44, 55],\n",
       " ['khan', 4, 5],\n",
       " [1, 2, 3],\n",
       " [3, 2],\n",
       " [8, 7, 6],\n",
       " ['car', 44, 55]]"
      ]
     },
     "execution_count": 118,
     "metadata": {},
     "output_type": "execute_result"
    }
   ],
   "source": [
    "l"
   ]
  },
  {
   "cell_type": "code",
   "execution_count": 119,
   "id": "9e7ab018",
   "metadata": {
    "scrolled": true
   },
   "outputs": [
    {
     "data": {
      "text/plain": [
       "['car', 44, 55]"
      ]
     },
     "execution_count": 119,
     "metadata": {},
     "output_type": "execute_result"
    }
   ],
   "source": [
    "l.pop(5)"
   ]
  },
  {
   "cell_type": "code",
   "execution_count": 120,
   "id": "64d92eed",
   "metadata": {},
   "outputs": [],
   "source": [
    "l1 = []\n",
    "    "
   ]
  },
  {
   "cell_type": "code",
   "execution_count": 121,
   "id": "2d609255",
   "metadata": {},
   "outputs": [],
   "source": [
    "for i in \"khan\":\n",
    "    l1.append(i)"
   ]
  },
  {
   "cell_type": "code",
   "execution_count": 122,
   "id": "ea19f732",
   "metadata": {},
   "outputs": [
    {
     "data": {
      "text/plain": [
       "['k', 'h', 'a', 'n']"
      ]
     },
     "execution_count": 122,
     "metadata": {},
     "output_type": "execute_result"
    }
   ],
   "source": [
    "l1"
   ]
  },
  {
   "cell_type": "code",
   "execution_count": 123,
   "id": "4534158e",
   "metadata": {},
   "outputs": [],
   "source": [
    "l = []"
   ]
  },
  {
   "cell_type": "code",
   "execution_count": 124,
   "id": "1c620d31",
   "metadata": {},
   "outputs": [],
   "source": [
    "for i in range(11):\n",
    "    if i % 2 != 0:\n",
    "         l.append(\"odd\")\n",
    "    else:\n",
    "        l.append(\"even\")"
   ]
  },
  {
   "cell_type": "code",
   "execution_count": 125,
   "id": "9da0fb7d",
   "metadata": {},
   "outputs": [
    {
     "data": {
      "text/plain": [
       "['even',\n",
       " 'odd',\n",
       " 'even',\n",
       " 'odd',\n",
       " 'even',\n",
       " 'odd',\n",
       " 'even',\n",
       " 'odd',\n",
       " 'even',\n",
       " 'odd',\n",
       " 'even']"
      ]
     },
     "execution_count": 125,
     "metadata": {},
     "output_type": "execute_result"
    }
   ],
   "source": [
    "l"
   ]
  },
  {
   "cell_type": "code",
   "execution_count": 126,
   "id": "ef360301",
   "metadata": {},
   "outputs": [],
   "source": [
    "my = []\n",
    "for i in range(3):\n",
    "    my.append([])\n",
    "    for j in range(3):\n",
    "        my[i].append(j)"
   ]
  },
  {
   "cell_type": "code",
   "execution_count": 127,
   "id": "8883b2f8",
   "metadata": {},
   "outputs": [
    {
     "data": {
      "text/plain": [
       "[[0, 1, 2], [0, 1, 2], [0, 1, 2]]"
      ]
     },
     "execution_count": 127,
     "metadata": {},
     "output_type": "execute_result"
    }
   ],
   "source": [
    "my"
   ]
  },
  {
   "cell_type": "code",
   "execution_count": null,
   "id": "416ccccd",
   "metadata": {},
   "outputs": [],
   "source": []
  }
 ],
 "metadata": {
  "kernelspec": {
   "display_name": "Python 3 (ipykernel)",
   "language": "python",
   "name": "python3"
  },
  "language_info": {
   "codemirror_mode": {
    "name": "ipython",
    "version": 3
   },
   "file_extension": ".py",
   "mimetype": "text/x-python",
   "name": "python",
   "nbconvert_exporter": "python",
   "pygments_lexer": "ipython3",
   "version": "3.9.12"
  }
 },
 "nbformat": 4,
 "nbformat_minor": 5
}
